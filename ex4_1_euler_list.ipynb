{
  "nbformat": 4,
  "nbformat_minor": 0,
  "metadata": {
    "language_info": {
      "codemirror_mode": {
        "name": "ipython",
        "version": 3
      },
      "file_extension": ".py",
      "mimetype": "text/x-python",
      "name": "python",
      "nbconvert_exporter": "python",
      "pygments_lexer": "ipython3",
      "version": "3.7.2-final"
    },
    "orig_nbformat": 2,
    "kernelspec": {
      "name": "python3",
      "display_name": "Python 3",
      "language": "python"
    },
    "colab": {
      "name": "ex4-1_euler_list.ipynb",
      "provenance": [],
      "include_colab_link": true
    }
  },
  "cells": [
    {
      "cell_type": "markdown",
      "metadata": {
        "id": "view-in-github",
        "colab_type": "text"
      },
      "source": [
        "<a href=\"https://colab.research.google.com/github/motokino/edu_physA/blob/main/ex4_1_euler_list.ipynb\" target=\"_parent\"><img src=\"https://colab.research.google.com/assets/colab-badge.svg\" alt=\"Open In Colab\"/></a>"
      ]
    },
    {
      "cell_type": "code",
      "metadata": {
        "colab": {
          "base_uri": "https://localhost:8080/",
          "height": 564
        },
        "id": "V5xYpwQsHJlZ",
        "outputId": "da7bfc1d-951c-40ff-80fc-bc276dd180be"
      },
      "source": [
        "import numpy as np\n",
        "import matplotlib.pyplot as plt\n",
        "import scipy.integrate as odeint\n",
        "\n",
        "# https://qiita.com/Dr_ASA/items/d44560cf1367290aee6d\n",
        "# https://qiita.com/sci_Haru/items/b8d5c9cfe64c4366630a#補遺\n",
        "\n",
        "# global変数の定義\n",
        "v0   =  15.0           # 速度の初期値\n",
        "x0   =   3.0           # 位置の初期値\n",
        "tmin =   0.0           # 開始時刻\n",
        "tmax =   30            # 終了時刻\n",
        "N    =   24            # ループ回数\n",
        "dt   = (tmax-tmin)/N   # 時間の刻み幅\n",
        "\n",
        "print('type of v0',type(v0))\n",
        "\n",
        "# 解くべき変数 v (速度), x(位置)と、時間を表す変数 t を用意\n",
        "v  = v0       # 速度の初期値を代入\n",
        "x  = x0       # 速度の初期値を代入\n",
        "t  = tmin     # 開始時刻を代入\n",
        "\n",
        "print('type of v',type(v))\n",
        "\n",
        "v_list  =  [v]\n",
        "x_list  =  [x]\n",
        "t_list  =  [t]\n",
        "\n",
        "print('type of v_hist',type(v_hist))\n",
        "\n",
        "ve = v0\n",
        "xe = x0\n",
        "ve_list = [ve]\n",
        "xe_list = [xe]\n",
        "\n",
        "def accel(time,velo, pos):   #  time=時間, velo=速度,　pos =位置\n",
        "    func = -3 * time ** 2 \n",
        "    return func\n",
        "\n",
        "def v_exact(time): # exact solution of time=時間\n",
        "    func = - time ** 3 + v0\n",
        "    return func\n",
        "\n",
        "def x_exact(time): # exact solution of time=時間\n",
        "    func = -0.25 * time ** 4 + v0 * time + x0\n",
        "    return func\n",
        "\n",
        "\n",
        "#while v >= 0:        # 速度が 0になる場合で実装\n",
        "for i in range(N): # \bループ回数の指定で実装\n",
        "### Euler method ###\n",
        "    v   = v + accel(t,v,x) * dt  \n",
        "    x   = x + v * dt              \n",
        "    t   = t + dt  # これをどこに置くか？で１ピクセル分答がかわるので要注意！\n",
        "   \n",
        "    xe =  x_exact(t)  # 解析解\n",
        "    ve =  v_exact(t)  # 解析解\n",
        "\n",
        "#    print(t,v)\n",
        "\n",
        "    t_list.append(t)\n",
        "    v_list.append(v)\n",
        "    x_list.append(x)\n",
        "\n",
        "    ve_list.append(ve)\n",
        "    xe_list.append(xe)\n",
        "\n",
        "#m_init = [x0, v0]  #高さと速度の初期値\n",
        "#m_list = odeint(accel, m_init, t_list)\n",
        "\n",
        "\n",
        "#　fig1 という名前の格納庫を準備して書き込み\n",
        "fig1 = plt.figure()\n",
        "plt.plot(t_list,v_list, 'o', label='numerical')\n",
        "# 厳密解(解析解 ve_hist)のプロット\n",
        "plt.plot(t_list, ve_list)\n",
        "plt.show()\n",
        "\n",
        "fig2 = plt.figure()\n",
        "plt.plot(t_list, x_list, 'o')\n",
        "plt.plot(t_list, xe_list)\n",
        "plt.show()"
      ],
      "execution_count": 6,
      "outputs": [
        {
          "output_type": "stream",
          "text": [
            "type of v0 <class 'float'>\n",
            "type of v <class 'float'>\n",
            "type of v_hist <class 'list'>\n"
          ],
          "name": "stdout"
        },
        {
          "output_type": "display_data",
          "data": {
            "image/png": "[encoded data removed]",
            "text/plain": [
              "<Figure size 432x288 with 1 Axes>"
            ]
          },
          "metadata": {
            "tags": [],
            "needs_background": "light"
          }
        },
        {
          "output_type": "display_data",
          "data": {
            "image/png": "[encoded data removed]",
            "text/plain": [
              "<Figure size 432x288 with 1 Axes>"
            ]
          },
          "metadata": {
            "tags": [],
            "needs_background": "light"
          }
        }
      ]
    },
    {
      "cell_type": "code",
      "metadata": {
        "colab": {
          "base_uri": "https://localhost:8080/"
        },
        "id": "cI_4SXC7HbAt",
        "outputId": "1aa157ef-5e5e-4a84-dea2-ad2ca76791f2"
      },
      "source": [
        "1+1"
      ],
      "execution_count": 3,
      "outputs": [
        {
          "output_type": "execute_result",
          "data": {
            "text/plain": [
              "2"
            ]
          },
          "metadata": {
            "tags": []
          },
          "execution_count": 3
        }
      ]
    },
    {
      "cell_type": "code",
      "metadata": {
        "id": "bc0ixMTOHcuW"
      },
      "source": [
        ""
      ],
      "execution_count": null,
      "outputs": []
    }
  ]
}